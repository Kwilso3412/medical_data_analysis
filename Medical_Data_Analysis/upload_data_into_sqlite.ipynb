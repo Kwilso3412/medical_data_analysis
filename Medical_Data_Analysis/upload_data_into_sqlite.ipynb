{
 "cells": [
  {
   "cell_type": "code",
   "execution_count": 1,
   "metadata": {
    "vscode": {
     "languageId": "r"
    }
   },
   "outputs": [
    {
     "name": "stderr",
     "output_type": "stream",
     "text": [
      "Warning message:\n",
      "\"package 'tidyverse' was built under R version 4.3.3\"\n"
     ]
    },
    {
     "name": "stderr",
     "output_type": "stream",
     "text": [
      "Warning message:\n",
      "\"package 'ggplot2' was built under R version 4.3.3\"\n",
      "Warning message:\n",
      "\"package 'tibble' was built under R version 4.3.3\"\n",
      "Warning message:\n",
      "\"package 'tidyr' was built under R version 4.3.3\"\n",
      "Warning message:\n",
      "\"package 'readr' was built under R version 4.3.3\"\n",
      "Warning message:\n",
      "\"package 'dplyr' was built under R version 4.3.3\"\n",
      "Warning message:\n",
      "\"package 'forcats' was built under R version 4.3.3\"\n",
      "Warning message:\n",
      "\"package 'lubridate' was built under R version 4.3.3\"\n",
      "── \u001b[1mAttaching core tidyverse packages\u001b[22m ──────────────────────── tidyverse 2.0.0 ──\n",
      "\u001b[32m✔\u001b[39m \u001b[34mdplyr    \u001b[39m 1.1.4     \u001b[32m✔\u001b[39m \u001b[34mreadr    \u001b[39m 2.1.5\n",
      "\u001b[32m✔\u001b[39m \u001b[34mforcats  \u001b[39m 1.0.0     \u001b[32m✔\u001b[39m \u001b[34mstringr  \u001b[39m 1.5.1\n",
      "\u001b[32m✔\u001b[39m \u001b[34mggplot2  \u001b[39m 3.5.0     \u001b[32m✔\u001b[39m \u001b[34mtibble   \u001b[39m 3.2.1\n",
      "\u001b[32m✔\u001b[39m \u001b[34mlubridate\u001b[39m 1.9.3     \u001b[32m✔\u001b[39m \u001b[34mtidyr    \u001b[39m 1.3.1\n",
      "\u001b[32m✔\u001b[39m \u001b[34mpurrr    \u001b[39m 1.0.2     \n",
      "── \u001b[1mConflicts\u001b[22m ────────────────────────────────────────── tidyverse_conflicts() ──\n",
      "\u001b[31m✖\u001b[39m \u001b[34mdplyr\u001b[39m::\u001b[32mfilter()\u001b[39m masks \u001b[34mstats\u001b[39m::filter()\n",
      "\u001b[31m✖\u001b[39m \u001b[34mdplyr\u001b[39m::\u001b[32mlag()\u001b[39m    masks \u001b[34mstats\u001b[39m::lag()\n",
      "\u001b[36mℹ\u001b[39m Use the conflicted package (\u001b[3m\u001b[34m<http://conflicted.r-lib.org/>\u001b[39m\u001b[23m) to force all conflicts to become errors\n",
      "Warning message:\n",
      "\"package 'DBI' was built under R version 4.3.3\"\n",
      "Warning message:\n",
      "\"package 'RMariaDB' was built under R version 4.3.3\"\n",
      "Warning message:\n",
      "\"package 'RSQLite' was built under R version 4.3.3\"\n"
     ]
    }
   ],
   "source": [
    "library(tidyverse) #Reading data\n",
    "library(lubridate) #Reading and manipulating dates and times\n",
    "library(readr) #Reading the CSV data file\n",
    "library(DBI)\n",
    "library(RMariaDB)\n",
    "library(RSQLite)"
   ]
  },
  {
   "cell_type": "code",
   "execution_count": 2,
   "metadata": {
    "vscode": {
     "languageId": "r"
    }
   },
   "outputs": [],
   "source": [
    "raw_stroke_data = read.csv(\"healthcare_dataset_stroke_data.csv\")\n",
    "stroke_data = data.frame(raw_stroke_data)"
   ]
  },
  {
   "cell_type": "code",
   "execution_count": 3,
   "metadata": {
    "vscode": {
     "languageId": "r"
    }
   },
   "outputs": [
    {
     "name": "stdout",
     "output_type": "stream",
     "text": [
      "Rows: 5,110\n",
      "Columns: 12\n",
      "$ id                \u001b[3m\u001b[90m<int>\u001b[39m\u001b[23m 9046, 51676, 31112, 60182, 1665, 56669, 53882, 10434…\n",
      "$ gender            \u001b[3m\u001b[90m<chr>\u001b[39m\u001b[23m \"Male\", \"Female\", \"Male\", \"Female\", \"Female\", \"Male\"…\n",
      "$ age               \u001b[3m\u001b[90m<dbl>\u001b[39m\u001b[23m 67, 61, 80, 49, 79, 81, 74, 69, 59, 78, 81, 61, 54, …\n",
      "$ hypertension      \u001b[3m\u001b[90m<int>\u001b[39m\u001b[23m 0, 0, 0, 0, 1, 0, 1, 0, 0, 0, 1, 0, 0, 0, 0, 1, 0, 1…\n",
      "$ heart_disease     \u001b[3m\u001b[90m<int>\u001b[39m\u001b[23m 1, 0, 1, 0, 0, 0, 1, 0, 0, 0, 0, 1, 0, 1, 1, 0, 1, 0…\n",
      "$ ever_married      \u001b[3m\u001b[90m<chr>\u001b[39m\u001b[23m \"Yes\", \"Yes\", \"Yes\", \"Yes\", \"Yes\", \"Yes\", \"Yes\", \"No…\n",
      "$ work_type         \u001b[3m\u001b[90m<chr>\u001b[39m\u001b[23m \"Private\", \"Self-employed\", \"Private\", \"Private\", \"S…\n",
      "$ Residence_type    \u001b[3m\u001b[90m<chr>\u001b[39m\u001b[23m \"Urban\", \"Rural\", \"Rural\", \"Urban\", \"Rural\", \"Urban\"…\n",
      "$ avg_glucose_level \u001b[3m\u001b[90m<dbl>\u001b[39m\u001b[23m 228.69, 202.21, 105.92, 171.23, 174.12, 186.21, 70.0…\n",
      "$ bmi               \u001b[3m\u001b[90m<chr>\u001b[39m\u001b[23m \"36.6\", \"N/A\", \"32.5\", \"34.4\", \"24\", \"29\", \"27.4\", \"…\n",
      "$ smoking_status    \u001b[3m\u001b[90m<chr>\u001b[39m\u001b[23m \"formerly smoked\", \"never smoked\", \"never smoked\", \"…\n",
      "$ stroke            \u001b[3m\u001b[90m<int>\u001b[39m\u001b[23m 1, 1, 1, 1, 1, 1, 1, 1, 1, 1, 1, 1, 1, 1, 1, 1, 1, 1…\n"
     ]
    }
   ],
   "source": [
    "glimpse(stroke_data)"
   ]
  },
  {
   "cell_type": "code",
   "execution_count": 4,
   "metadata": {
    "vscode": {
     "languageId": "r"
    }
   },
   "outputs": [
    {
     "data": {
      "text/html": [
       "<style>\n",
       ".list-inline {list-style: none; margin:0; padding: 0}\n",
       ".list-inline>li {display: inline-block}\n",
       ".list-inline>li:not(:last-child)::after {content: \"\\00b7\"; padding: 0 .5ex}\n",
       "</style>\n",
       "<ol class=list-inline><li>'id'</li><li>'gender'</li><li>'age'</li><li>'hypertension'</li><li>'heart_disease'</li><li>'ever_married'</li><li>'work_type'</li><li>'residence_type'</li><li>'avg_glucose_level'</li><li>'bmi'</li><li>'smoking_status'</li><li>'stroke'</li></ol>\n"
      ],
      "text/latex": [
       "\\begin{enumerate*}\n",
       "\\item 'id'\n",
       "\\item 'gender'\n",
       "\\item 'age'\n",
       "\\item 'hypertension'\n",
       "\\item 'heart\\_disease'\n",
       "\\item 'ever\\_married'\n",
       "\\item 'work\\_type'\n",
       "\\item 'residence\\_type'\n",
       "\\item 'avg\\_glucose\\_level'\n",
       "\\item 'bmi'\n",
       "\\item 'smoking\\_status'\n",
       "\\item 'stroke'\n",
       "\\end{enumerate*}\n"
      ],
      "text/markdown": [
       "1. 'id'\n",
       "2. 'gender'\n",
       "3. 'age'\n",
       "4. 'hypertension'\n",
       "5. 'heart_disease'\n",
       "6. 'ever_married'\n",
       "7. 'work_type'\n",
       "8. 'residence_type'\n",
       "9. 'avg_glucose_level'\n",
       "10. 'bmi'\n",
       "11. 'smoking_status'\n",
       "12. 'stroke'\n",
       "\n",
       "\n"
      ],
      "text/plain": [
       " [1] \"id\"                \"gender\"            \"age\"              \n",
       " [4] \"hypertension\"      \"heart_disease\"     \"ever_married\"     \n",
       " [7] \"work_type\"         \"residence_type\"    \"avg_glucose_level\"\n",
       "[10] \"bmi\"               \"smoking_status\"    \"stroke\"           "
      ]
     },
     "metadata": {},
     "output_type": "display_data"
    }
   ],
   "source": [
    "stroke_data = rename(stroke_data, residence_type = Residence_type)\n",
    "colnames(stroke_data)"
   ]
  },
  {
   "cell_type": "code",
   "execution_count": 5,
   "metadata": {
    "vscode": {
     "languageId": "r"
    }
   },
   "outputs": [
    {
     "name": "stdout",
     "output_type": "stream",
     "text": [
      "               id            gender               age      hypertension \n",
      "                0                 0                 0                 0 \n",
      "    heart_disease      ever_married         work_type    residence_type \n",
      "                0                 0                 0                 0 \n",
      "avg_glucose_level               bmi    smoking_status            stroke \n",
      "                0                 0                 0                 0 \n"
     ]
    }
   ],
   "source": [
    "missing_values = colSums(is.na(stroke_data))\n",
    "print(missing_values)"
   ]
  },
  {
   "cell_type": "code",
   "execution_count": 6,
   "metadata": {
    "vscode": {
     "languageId": "r"
    }
   },
   "outputs": [
    {
     "name": "stdout",
     "output_type": "stream",
     "text": [
      "[1] \"original names\"\n",
      "               id            gender               age      hypertension \n",
      "        \"integer\"       \"character\"         \"numeric\"         \"integer\" \n",
      "    heart_disease      ever_married         work_type    residence_type \n",
      "        \"integer\"       \"character\"       \"character\"       \"character\" \n",
      "avg_glucose_level               bmi    smoking_status            stroke \n",
      "        \"numeric\"       \"character\"       \"character\"         \"integer\" \n"
     ]
    }
   ],
   "source": [
    "print(\"original names\")\n",
    "print(sapply(stroke_data, class))"
   ]
  },
  {
   "cell_type": "code",
   "execution_count": 7,
   "metadata": {
    "vscode": {
     "languageId": "r"
    }
   },
   "outputs": [
    {
     "data": {
      "text/html": [
       "<table class=\"dataframe\">\n",
       "<caption>A data.frame: 5 × 12</caption>\n",
       "<thead>\n",
       "\t<tr><th></th><th scope=col>id</th><th scope=col>gender</th><th scope=col>age</th><th scope=col>hypertension</th><th scope=col>heart_disease</th><th scope=col>ever_married</th><th scope=col>work_type</th><th scope=col>residence_type</th><th scope=col>avg_glucose_level</th><th scope=col>bmi</th><th scope=col>smoking_status</th><th scope=col>stroke</th></tr>\n",
       "\t<tr><th></th><th scope=col>&lt;int&gt;</th><th scope=col>&lt;chr&gt;</th><th scope=col>&lt;dbl&gt;</th><th scope=col>&lt;int&gt;</th><th scope=col>&lt;int&gt;</th><th scope=col>&lt;chr&gt;</th><th scope=col>&lt;chr&gt;</th><th scope=col>&lt;chr&gt;</th><th scope=col>&lt;dbl&gt;</th><th scope=col>&lt;chr&gt;</th><th scope=col>&lt;chr&gt;</th><th scope=col>&lt;int&gt;</th></tr>\n",
       "</thead>\n",
       "<tbody>\n",
       "\t<tr><th scope=row>1</th><td> 9046</td><td>Male  </td><td>67</td><td>0</td><td>1</td><td>Yes</td><td>Private      </td><td>Urban</td><td>228.69</td><td>36.6</td><td>formerly smoked</td><td>1</td></tr>\n",
       "\t<tr><th scope=row>2</th><td>51676</td><td>Female</td><td>61</td><td>0</td><td>0</td><td>Yes</td><td>Self-employed</td><td>Rural</td><td>202.21</td><td>N/A </td><td>never smoked   </td><td>1</td></tr>\n",
       "\t<tr><th scope=row>3</th><td>31112</td><td>Male  </td><td>80</td><td>0</td><td>1</td><td>Yes</td><td>Private      </td><td>Rural</td><td>105.92</td><td>32.5</td><td>never smoked   </td><td>1</td></tr>\n",
       "\t<tr><th scope=row>4</th><td>60182</td><td>Female</td><td>49</td><td>0</td><td>0</td><td>Yes</td><td>Private      </td><td>Urban</td><td>171.23</td><td>34.4</td><td>smokes         </td><td>1</td></tr>\n",
       "\t<tr><th scope=row>5</th><td> 1665</td><td>Female</td><td>79</td><td>1</td><td>0</td><td>Yes</td><td>Self-employed</td><td>Rural</td><td>174.12</td><td>24  </td><td>never smoked   </td><td>1</td></tr>\n",
       "</tbody>\n",
       "</table>\n"
      ],
      "text/latex": [
       "A data.frame: 5 × 12\n",
       "\\begin{tabular}{r|llllllllllll}\n",
       "  & id & gender & age & hypertension & heart\\_disease & ever\\_married & work\\_type & residence\\_type & avg\\_glucose\\_level & bmi & smoking\\_status & stroke\\\\\n",
       "  & <int> & <chr> & <dbl> & <int> & <int> & <chr> & <chr> & <chr> & <dbl> & <chr> & <chr> & <int>\\\\\n",
       "\\hline\n",
       "\t1 &  9046 & Male   & 67 & 0 & 1 & Yes & Private       & Urban & 228.69 & 36.6 & formerly smoked & 1\\\\\n",
       "\t2 & 51676 & Female & 61 & 0 & 0 & Yes & Self-employed & Rural & 202.21 & N/A  & never smoked    & 1\\\\\n",
       "\t3 & 31112 & Male   & 80 & 0 & 1 & Yes & Private       & Rural & 105.92 & 32.5 & never smoked    & 1\\\\\n",
       "\t4 & 60182 & Female & 49 & 0 & 0 & Yes & Private       & Urban & 171.23 & 34.4 & smokes          & 1\\\\\n",
       "\t5 &  1665 & Female & 79 & 1 & 0 & Yes & Self-employed & Rural & 174.12 & 24   & never smoked    & 1\\\\\n",
       "\\end{tabular}\n"
      ],
      "text/markdown": [
       "\n",
       "A data.frame: 5 × 12\n",
       "\n",
       "| <!--/--> | id &lt;int&gt; | gender &lt;chr&gt; | age &lt;dbl&gt; | hypertension &lt;int&gt; | heart_disease &lt;int&gt; | ever_married &lt;chr&gt; | work_type &lt;chr&gt; | residence_type &lt;chr&gt; | avg_glucose_level &lt;dbl&gt; | bmi &lt;chr&gt; | smoking_status &lt;chr&gt; | stroke &lt;int&gt; |\n",
       "|---|---|---|---|---|---|---|---|---|---|---|---|---|\n",
       "| 1 |  9046 | Male   | 67 | 0 | 1 | Yes | Private       | Urban | 228.69 | 36.6 | formerly smoked | 1 |\n",
       "| 2 | 51676 | Female | 61 | 0 | 0 | Yes | Self-employed | Rural | 202.21 | N/A  | never smoked    | 1 |\n",
       "| 3 | 31112 | Male   | 80 | 0 | 1 | Yes | Private       | Rural | 105.92 | 32.5 | never smoked    | 1 |\n",
       "| 4 | 60182 | Female | 49 | 0 | 0 | Yes | Private       | Urban | 171.23 | 34.4 | smokes          | 1 |\n",
       "| 5 |  1665 | Female | 79 | 1 | 0 | Yes | Self-employed | Rural | 174.12 | 24   | never smoked    | 1 |\n",
       "\n"
      ],
      "text/plain": [
       "  id    gender age hypertension heart_disease ever_married work_type    \n",
       "1  9046 Male   67  0            1             Yes          Private      \n",
       "2 51676 Female 61  0            0             Yes          Self-employed\n",
       "3 31112 Male   80  0            1             Yes          Private      \n",
       "4 60182 Female 49  0            0             Yes          Private      \n",
       "5  1665 Female 79  1            0             Yes          Self-employed\n",
       "  residence_type avg_glucose_level bmi  smoking_status  stroke\n",
       "1 Urban          228.69            36.6 formerly smoked 1     \n",
       "2 Rural          202.21            N/A  never smoked    1     \n",
       "3 Rural          105.92            32.5 never smoked    1     \n",
       "4 Urban          171.23            34.4 smokes          1     \n",
       "5 Rural          174.12            24   never smoked    1     "
      ]
     },
     "metadata": {},
     "output_type": "display_data"
    }
   ],
   "source": [
    "head(stroke_data, n=5)"
   ]
  },
  {
   "cell_type": "code",
   "execution_count": 8,
   "metadata": {
    "vscode": {
     "languageId": "r"
    }
   },
   "outputs": [
    {
     "name": "stdout",
     "output_type": "stream",
     "text": [
      "[1] \"With the rows that have N/A\"\n",
      "[1] 5110\n",
      "[1] \"Without the rows with N/A\"\n",
      "[1] 4909\n",
      "[1] \"Difference\"\n",
      "[1] 201\n"
     ]
    }
   ],
   "source": [
    "# BMI is the only column with N/A so I will check if I can just drop those rows without signifcant data loss\n",
    "# I'll make not of that in my analysis\n",
    "stroke_data_na_removed = filter(stroke_data, !grepl(\"N/A\", bmi))\n",
    "\n",
    "print(\"With the rows that have N/A\")\n",
    "with_rows = nrow(stroke_data)\n",
    "print(with_rows)\n",
    "\n",
    "print(\"Without the rows with N/A\")\n",
    "without_rows = nrow(stroke_data_na_removed)\n",
    "print(without_rows)\n",
    "\n",
    "print(\"Difference\")\n",
    "print(with_rows - without_rows)"
   ]
  },
  {
   "cell_type": "code",
   "execution_count": 9,
   "metadata": {
    "vscode": {
     "languageId": "r"
    }
   },
   "outputs": [
    {
     "data": {
      "text/html": [
       "<style>\n",
       ".list-inline {list-style: none; margin:0; padding: 0}\n",
       ".list-inline>li {display: inline-block}\n",
       ".list-inline>li:not(:last-child)::after {content: \"\\00b7\"; padding: 0 .5ex}\n",
       "</style>\n",
       "<ol class=list-inline><li>'gender'</li><li>'age'</li><li>'hypertension'</li><li>'heart_disease'</li><li>'ever_married'</li><li>'work_type'</li><li>'residence_type'</li><li>'avg_glucose_level'</li><li>'bmi'</li><li>'smoking_status'</li><li>'stroke'</li><li>'person_id'</li></ol>\n"
      ],
      "text/latex": [
       "\\begin{enumerate*}\n",
       "\\item 'gender'\n",
       "\\item 'age'\n",
       "\\item 'hypertension'\n",
       "\\item 'heart\\_disease'\n",
       "\\item 'ever\\_married'\n",
       "\\item 'work\\_type'\n",
       "\\item 'residence\\_type'\n",
       "\\item 'avg\\_glucose\\_level'\n",
       "\\item 'bmi'\n",
       "\\item 'smoking\\_status'\n",
       "\\item 'stroke'\n",
       "\\item 'person\\_id'\n",
       "\\end{enumerate*}\n"
      ],
      "text/markdown": [
       "1. 'gender'\n",
       "2. 'age'\n",
       "3. 'hypertension'\n",
       "4. 'heart_disease'\n",
       "5. 'ever_married'\n",
       "6. 'work_type'\n",
       "7. 'residence_type'\n",
       "8. 'avg_glucose_level'\n",
       "9. 'bmi'\n",
       "10. 'smoking_status'\n",
       "11. 'stroke'\n",
       "12. 'person_id'\n",
       "\n",
       "\n"
      ],
      "text/plain": [
       " [1] \"gender\"            \"age\"               \"hypertension\"     \n",
       " [4] \"heart_disease\"     \"ever_married\"      \"work_type\"        \n",
       " [7] \"residence_type\"    \"avg_glucose_level\" \"bmi\"              \n",
       "[10] \"smoking_status\"    \"stroke\"            \"person_id\"        "
      ]
     },
     "metadata": {},
     "output_type": "display_data"
    }
   ],
   "source": [
    "stroke_data = select(stroke_data, -id)\n",
    "stroke_data = mutate(stroke_data, index = row_number())\n",
    "stroke_data = rename(stroke_data, person_id = index)\n",
    "colnames(stroke_data)"
   ]
  },
  {
   "cell_type": "code",
   "execution_count": 10,
   "metadata": {
    "vscode": {
     "languageId": "r"
    }
   },
   "outputs": [],
   "source": [
    "cleaned_datset = data.frame(stroke_data)\n",
    "db = dbConnect(dbDriver(\"SQLite\"), dbname=\"stroke_data.db\")"
   ]
  },
  {
   "cell_type": "code",
   "execution_count": 11,
   "metadata": {
    "vscode": {
     "languageId": "r"
    }
   },
   "outputs": [
    {
     "data": {
      "text/html": [
       "0"
      ],
      "text/latex": [
       "0"
      ],
      "text/markdown": [
       "0"
      ],
      "text/plain": [
       "[1] 0"
      ]
     },
     "metadata": {},
     "output_type": "display_data"
    },
    {
     "data": {
      "text/html": [
       "'person'"
      ],
      "text/latex": [
       "'person'"
      ],
      "text/markdown": [
       "'person'"
      ],
      "text/plain": [
       "[1] \"person\""
      ]
     },
     "metadata": {},
     "output_type": "display_data"
    }
   ],
   "source": [
    "first_table = \"CREATE TABLE IF NOT EXISTS person(\n",
    "                person_id INTEGER PRIMARY KEY,\n",
    "                gender TEXT,\n",
    "                age INTEGER,\n",
    "                ever_married TEXT,\n",
    "                work_type TEXT,\n",
    "                residence_type TEXT\n",
    ");\"\n",
    "\n",
    "dbExecute(db, first_table)\n",
    "dbListTables(db)"
   ]
  },
  {
   "cell_type": "code",
   "execution_count": 12,
   "metadata": {
    "vscode": {
     "languageId": "r"
    }
   },
   "outputs": [
    {
     "data": {
      "text/html": [
       "<style>\n",
       ".list-inline {list-style: none; margin:0; padding: 0}\n",
       ".list-inline>li {display: inline-block}\n",
       ".list-inline>li:not(:last-child)::after {content: \"\\00b7\"; padding: 0 .5ex}\n",
       "</style>\n",
       "<ol class=list-inline><li>'gender'</li><li>'age'</li><li>'ever_married'</li><li>'work_type'</li><li>'residence_type'</li><li>'person_id'</li></ol>\n"
      ],
      "text/latex": [
       "\\begin{enumerate*}\n",
       "\\item 'gender'\n",
       "\\item 'age'\n",
       "\\item 'ever\\_married'\n",
       "\\item 'work\\_type'\n",
       "\\item 'residence\\_type'\n",
       "\\item 'person\\_id'\n",
       "\\end{enumerate*}\n"
      ],
      "text/markdown": [
       "1. 'gender'\n",
       "2. 'age'\n",
       "3. 'ever_married'\n",
       "4. 'work_type'\n",
       "5. 'residence_type'\n",
       "6. 'person_id'\n",
       "\n",
       "\n"
      ],
      "text/plain": [
       "[1] \"gender\"         \"age\"            \"ever_married\"   \"work_type\"     \n",
       "[5] \"residence_type\" \"person_id\"     "
      ]
     },
     "metadata": {},
     "output_type": "display_data"
    }
   ],
   "source": [
    "table_name=\"person\"\n",
    "query_table_1 = paste0(\"PRAGMA table_info(\",table_name,\");\")\n",
    "db_columns = dbGetQuery(db,query_table_1)$name\n",
    "common_columns_first = intersect(colnames(cleaned_datset), db_columns)\n",
    "common_columns_first"
   ]
  },
  {
   "cell_type": "code",
   "execution_count": 13,
   "metadata": {
    "vscode": {
     "languageId": "r"
    }
   },
   "outputs": [
    {
     "data": {
      "text/html": [
       "<table class=\"dataframe\">\n",
       "<caption>A data.frame: 5 × 6</caption>\n",
       "<thead>\n",
       "\t<tr><th scope=col>person_id</th><th scope=col>gender</th><th scope=col>age</th><th scope=col>ever_married</th><th scope=col>work_type</th><th scope=col>residence_type</th></tr>\n",
       "\t<tr><th scope=col>&lt;int&gt;</th><th scope=col>&lt;chr&gt;</th><th scope=col>&lt;int&gt;</th><th scope=col>&lt;chr&gt;</th><th scope=col>&lt;chr&gt;</th><th scope=col>&lt;chr&gt;</th></tr>\n",
       "</thead>\n",
       "<tbody>\n",
       "\t<tr><td>1</td><td>Male  </td><td>67</td><td>Yes</td><td>Private      </td><td>Urban</td></tr>\n",
       "\t<tr><td>2</td><td>Female</td><td>61</td><td>Yes</td><td>Self-employed</td><td>Rural</td></tr>\n",
       "\t<tr><td>3</td><td>Male  </td><td>80</td><td>Yes</td><td>Private      </td><td>Rural</td></tr>\n",
       "\t<tr><td>4</td><td>Female</td><td>49</td><td>Yes</td><td>Private      </td><td>Urban</td></tr>\n",
       "\t<tr><td>5</td><td>Female</td><td>79</td><td>Yes</td><td>Self-employed</td><td>Rural</td></tr>\n",
       "</tbody>\n",
       "</table>\n"
      ],
      "text/latex": [
       "A data.frame: 5 × 6\n",
       "\\begin{tabular}{llllll}\n",
       " person\\_id & gender & age & ever\\_married & work\\_type & residence\\_type\\\\\n",
       " <int> & <chr> & <int> & <chr> & <chr> & <chr>\\\\\n",
       "\\hline\n",
       "\t 1 & Male   & 67 & Yes & Private       & Urban\\\\\n",
       "\t 2 & Female & 61 & Yes & Self-employed & Rural\\\\\n",
       "\t 3 & Male   & 80 & Yes & Private       & Rural\\\\\n",
       "\t 4 & Female & 49 & Yes & Private       & Urban\\\\\n",
       "\t 5 & Female & 79 & Yes & Self-employed & Rural\\\\\n",
       "\\end{tabular}\n"
      ],
      "text/markdown": [
       "\n",
       "A data.frame: 5 × 6\n",
       "\n",
       "| person_id &lt;int&gt; | gender &lt;chr&gt; | age &lt;int&gt; | ever_married &lt;chr&gt; | work_type &lt;chr&gt; | residence_type &lt;chr&gt; |\n",
       "|---|---|---|---|---|---|\n",
       "| 1 | Male   | 67 | Yes | Private       | Urban |\n",
       "| 2 | Female | 61 | Yes | Self-employed | Rural |\n",
       "| 3 | Male   | 80 | Yes | Private       | Rural |\n",
       "| 4 | Female | 49 | Yes | Private       | Urban |\n",
       "| 5 | Female | 79 | Yes | Self-employed | Rural |\n",
       "\n"
      ],
      "text/plain": [
       "  person_id gender age ever_married work_type     residence_type\n",
       "1 1         Male   67  Yes          Private       Urban         \n",
       "2 2         Female 61  Yes          Self-employed Rural         \n",
       "3 3         Male   80  Yes          Private       Rural         \n",
       "4 4         Female 49  Yes          Private       Urban         \n",
       "5 5         Female 79  Yes          Self-employed Rural         "
      ]
     },
     "metadata": {},
     "output_type": "display_data"
    }
   ],
   "source": [
    "person_subset = cleaned_datset[,common_columns_first]\n",
    "dbWriteTable(db,\"person\",person_subset, append = TRUE, row.names = FALSE)\n",
    "dbGetQuery(db,\"SELECT * \n",
    "                FROM person\n",
    "                LIMIT 5\")"
   ]
  },
  {
   "cell_type": "code",
   "execution_count": 14,
   "metadata": {
    "vscode": {
     "languageId": "r"
    }
   },
   "outputs": [
    {
     "data": {
      "text/html": [
       "0"
      ],
      "text/latex": [
       "0"
      ],
      "text/markdown": [
       "0"
      ],
      "text/plain": [
       "[1] 0"
      ]
     },
     "metadata": {},
     "output_type": "display_data"
    },
    {
     "data": {
      "text/html": [
       "<style>\n",
       ".list-inline {list-style: none; margin:0; padding: 0}\n",
       ".list-inline>li {display: inline-block}\n",
       ".list-inline>li:not(:last-child)::after {content: \"\\00b7\"; padding: 0 .5ex}\n",
       "</style>\n",
       "<ol class=list-inline><li>'medical_history'</li><li>'person'</li></ol>\n"
      ],
      "text/latex": [
       "\\begin{enumerate*}\n",
       "\\item 'medical\\_history'\n",
       "\\item 'person'\n",
       "\\end{enumerate*}\n"
      ],
      "text/markdown": [
       "1. 'medical_history'\n",
       "2. 'person'\n",
       "\n",
       "\n"
      ],
      "text/plain": [
       "[1] \"medical_history\" \"person\"         "
      ]
     },
     "metadata": {},
     "output_type": "display_data"
    }
   ],
   "source": [
    "second_table = \"CREATE TABLE IF NOT EXISTS medical_history(\n",
    "                person_id INTEGER,\n",
    "                hypertension INTEGER,\n",
    "                heart_disease INTEGER,\n",
    "                avg_glucose_level REAL,\n",
    "                smoking_status TEXT,\n",
    "                stroke INTEGER,\n",
    "                bmi REAL,\n",
    "                FOREIGN KEY (person_id) REFERENCES person(person_id)\n",
    ");\"\n",
    "\n",
    "dbExecute(db, second_table)\n",
    "dbListTables(db)"
   ]
  },
  {
   "cell_type": "code",
   "execution_count": 15,
   "metadata": {
    "vscode": {
     "languageId": "r"
    }
   },
   "outputs": [
    {
     "data": {
      "text/html": [
       "<style>\n",
       ".list-inline {list-style: none; margin:0; padding: 0}\n",
       ".list-inline>li {display: inline-block}\n",
       ".list-inline>li:not(:last-child)::after {content: \"\\00b7\"; padding: 0 .5ex}\n",
       "</style>\n",
       "<ol class=list-inline><li>'hypertension'</li><li>'heart_disease'</li><li>'avg_glucose_level'</li><li>'bmi'</li><li>'smoking_status'</li><li>'stroke'</li><li>'person_id'</li></ol>\n"
      ],
      "text/latex": [
       "\\begin{enumerate*}\n",
       "\\item 'hypertension'\n",
       "\\item 'heart\\_disease'\n",
       "\\item 'avg\\_glucose\\_level'\n",
       "\\item 'bmi'\n",
       "\\item 'smoking\\_status'\n",
       "\\item 'stroke'\n",
       "\\item 'person\\_id'\n",
       "\\end{enumerate*}\n"
      ],
      "text/markdown": [
       "1. 'hypertension'\n",
       "2. 'heart_disease'\n",
       "3. 'avg_glucose_level'\n",
       "4. 'bmi'\n",
       "5. 'smoking_status'\n",
       "6. 'stroke'\n",
       "7. 'person_id'\n",
       "\n",
       "\n"
      ],
      "text/plain": [
       "[1] \"hypertension\"      \"heart_disease\"     \"avg_glucose_level\"\n",
       "[4] \"bmi\"               \"smoking_status\"    \"stroke\"           \n",
       "[7] \"person_id\"        "
      ]
     },
     "metadata": {},
     "output_type": "display_data"
    }
   ],
   "source": [
    "table_name = \"medical_history\"\n",
    "query_table_2 = paste0(\"PRAGMA table_info(\", table_name,\");\")\n",
    "db_columns = dbGetQuery(db, query_table_2)$name\n",
    "common_columns_second = intersect(colnames(cleaned_datset),db_columns)\n",
    "common_columns_second"
   ]
  },
  {
   "cell_type": "code",
   "execution_count": 16,
   "metadata": {
    "vscode": {
     "languageId": "r"
    }
   },
   "outputs": [
    {
     "name": "stderr",
     "output_type": "stream",
     "text": [
      "Warning message:\n",
      "\"Column `bmi`: mixed type, first seen values of type real, coercing other values of type string\"\n"
     ]
    },
    {
     "data": {
      "text/html": [
       "<table class=\"dataframe\">\n",
       "<caption>A data.frame: 5 × 7</caption>\n",
       "<thead>\n",
       "\t<tr><th scope=col>person_id</th><th scope=col>hypertension</th><th scope=col>heart_disease</th><th scope=col>avg_glucose_level</th><th scope=col>smoking_status</th><th scope=col>stroke</th><th scope=col>bmi</th></tr>\n",
       "\t<tr><th scope=col>&lt;int&gt;</th><th scope=col>&lt;int&gt;</th><th scope=col>&lt;int&gt;</th><th scope=col>&lt;dbl&gt;</th><th scope=col>&lt;chr&gt;</th><th scope=col>&lt;int&gt;</th><th scope=col>&lt;dbl&gt;</th></tr>\n",
       "</thead>\n",
       "<tbody>\n",
       "\t<tr><td>1</td><td>0</td><td>1</td><td>228.69</td><td>formerly smoked</td><td>1</td><td>36.6</td></tr>\n",
       "\t<tr><td>2</td><td>0</td><td>0</td><td>202.21</td><td>never smoked   </td><td>1</td><td> 0.0</td></tr>\n",
       "\t<tr><td>3</td><td>0</td><td>1</td><td>105.92</td><td>never smoked   </td><td>1</td><td>32.5</td></tr>\n",
       "\t<tr><td>4</td><td>0</td><td>0</td><td>171.23</td><td>smokes         </td><td>1</td><td>34.4</td></tr>\n",
       "\t<tr><td>5</td><td>1</td><td>0</td><td>174.12</td><td>never smoked   </td><td>1</td><td>24.0</td></tr>\n",
       "</tbody>\n",
       "</table>\n"
      ],
      "text/latex": [
       "A data.frame: 5 × 7\n",
       "\\begin{tabular}{lllllll}\n",
       " person\\_id & hypertension & heart\\_disease & avg\\_glucose\\_level & smoking\\_status & stroke & bmi\\\\\n",
       " <int> & <int> & <int> & <dbl> & <chr> & <int> & <dbl>\\\\\n",
       "\\hline\n",
       "\t 1 & 0 & 1 & 228.69 & formerly smoked & 1 & 36.6\\\\\n",
       "\t 2 & 0 & 0 & 202.21 & never smoked    & 1 &  0.0\\\\\n",
       "\t 3 & 0 & 1 & 105.92 & never smoked    & 1 & 32.5\\\\\n",
       "\t 4 & 0 & 0 & 171.23 & smokes          & 1 & 34.4\\\\\n",
       "\t 5 & 1 & 0 & 174.12 & never smoked    & 1 & 24.0\\\\\n",
       "\\end{tabular}\n"
      ],
      "text/markdown": [
       "\n",
       "A data.frame: 5 × 7\n",
       "\n",
       "| person_id &lt;int&gt; | hypertension &lt;int&gt; | heart_disease &lt;int&gt; | avg_glucose_level &lt;dbl&gt; | smoking_status &lt;chr&gt; | stroke &lt;int&gt; | bmi &lt;dbl&gt; |\n",
       "|---|---|---|---|---|---|---|\n",
       "| 1 | 0 | 1 | 228.69 | formerly smoked | 1 | 36.6 |\n",
       "| 2 | 0 | 0 | 202.21 | never smoked    | 1 |  0.0 |\n",
       "| 3 | 0 | 1 | 105.92 | never smoked    | 1 | 32.5 |\n",
       "| 4 | 0 | 0 | 171.23 | smokes          | 1 | 34.4 |\n",
       "| 5 | 1 | 0 | 174.12 | never smoked    | 1 | 24.0 |\n",
       "\n"
      ],
      "text/plain": [
       "  person_id hypertension heart_disease avg_glucose_level smoking_status  stroke\n",
       "1 1         0            1             228.69            formerly smoked 1     \n",
       "2 2         0            0             202.21            never smoked    1     \n",
       "3 3         0            1             105.92            never smoked    1     \n",
       "4 4         0            0             171.23            smokes          1     \n",
       "5 5         1            0             174.12            never smoked    1     \n",
       "  bmi \n",
       "1 36.6\n",
       "2  0.0\n",
       "3 32.5\n",
       "4 34.4\n",
       "5 24.0"
      ]
     },
     "metadata": {},
     "output_type": "display_data"
    }
   ],
   "source": [
    "medical_subset = cleaned_datset[, common_columns_second]\n",
    "dbWriteTable(db, \"medical_history\", medical_subset, append=TRUE,row.names =FALSE)\n",
    "dbGetQuery(db,\"SELECT * \n",
    "                FROM medical_history\n",
    "                LIMIT 5\")"
   ]
  },
  {
   "cell_type": "code",
   "execution_count": 18,
   "metadata": {
    "vscode": {
     "languageId": "r"
    }
   },
   "outputs": [
    {
     "data": {
      "text/html": [
       "<table class=\"dataframe\">\n",
       "<caption>A data.frame: 1 × 6</caption>\n",
       "<thead>\n",
       "\t<tr><th scope=col>Had_a_stroke</th><th scope=col>Havent_had_a_stroke</th><th scope=col>Man_that_have_had_a_stroke</th><th scope=col>Women_that_have_had_a_stroke</th><th scope=col>Women_married_had_stroke</th><th scope=col>Man_married_had_stroke</th></tr>\n",
       "\t<tr><th scope=col>&lt;int&gt;</th><th scope=col>&lt;int&gt;</th><th scope=col>&lt;int&gt;</th><th scope=col>&lt;int&gt;</th><th scope=col>&lt;int&gt;</th><th scope=col>&lt;int&gt;</th></tr>\n",
       "</thead>\n",
       "<tbody>\n",
       "\t<tr><td>249</td><td>4861</td><td>108</td><td>141</td><td>120</td><td>100</td></tr>\n",
       "</tbody>\n",
       "</table>\n"
      ],
      "text/latex": [
       "A data.frame: 1 × 6\n",
       "\\begin{tabular}{llllll}\n",
       " Had\\_a\\_stroke & Havent\\_had\\_a\\_stroke & Man\\_that\\_have\\_had\\_a\\_stroke & Women\\_that\\_have\\_had\\_a\\_stroke & Women\\_married\\_had\\_stroke & Man\\_married\\_had\\_stroke\\\\\n",
       " <int> & <int> & <int> & <int> & <int> & <int>\\\\\n",
       "\\hline\n",
       "\t 249 & 4861 & 108 & 141 & 120 & 100\\\\\n",
       "\\end{tabular}\n"
      ],
      "text/markdown": [
       "\n",
       "A data.frame: 1 × 6\n",
       "\n",
       "| Had_a_stroke &lt;int&gt; | Havent_had_a_stroke &lt;int&gt; | Man_that_have_had_a_stroke &lt;int&gt; | Women_that_have_had_a_stroke &lt;int&gt; | Women_married_had_stroke &lt;int&gt; | Man_married_had_stroke &lt;int&gt; |\n",
       "|---|---|---|---|---|---|\n",
       "| 249 | 4861 | 108 | 141 | 120 | 100 |\n",
       "\n"
      ],
      "text/plain": [
       "  Had_a_stroke Havent_had_a_stroke Man_that_have_had_a_stroke\n",
       "1 249          4861                108                       \n",
       "  Women_that_have_had_a_stroke Women_married_had_stroke Man_married_had_stroke\n",
       "1 141                          120                      100                   "
      ]
     },
     "metadata": {},
     "output_type": "display_data"
    }
   ],
   "source": [
    "totals = dbGetQuery(db,\"SELECT \n",
    "                            COUNT(CASE WHEN m.stroke = 1 THEN 1 END) as  Had_a_stroke,\n",
    "                            COUNT(CASE WHEN m.stroke = 0 THEN 1 END) as Havent_had_a_stroke,\n",
    "                            COUNT(CASE WHEN m.stroke = 1 AND p.gender = 'Male' THEN 1 END) as Man_that_have_had_a_stroke,\n",
    "                            COUNT(CASE WHEN m.stroke = 1 AND p.gender = 'Female' THEN 1 END) as Women_that_have_had_a_stroke,\n",
    "                            COUNT(CASE WHEN m.stroke = 1 AND p.gender = 'Female' AND p.ever_married = 'Yes' THEN 1 END) as Women_married_had_stroke,\n",
    "                            COUNT(CASE WHEN m.stroke = 1 AND p.gender = 'Male' AND p.ever_married = 'Yes' THEN 1 END) as Man_married_had_stroke\n",
    "                        FROM\n",
    "                            person p\n",
    "                        LEFT JOIN medical_history m on p.person_id = m.person_id\n",
    "\")\n",
    "\n",
    "totals\n",
    "write.csv(totals,'total.csv')"
   ]
  },
  {
   "cell_type": "code",
   "execution_count": 19,
   "metadata": {
    "vscode": {
     "languageId": "r"
    }
   },
   "outputs": [
    {
     "name": "stderr",
     "output_type": "stream",
     "text": [
      "Warning message:\n",
      "\"Column `bmi`: mixed type, first seen values of type real, coercing other values of type string\"\n"
     ]
    },
    {
     "data": {
      "text/html": [
       "<table class=\"dataframe\">\n",
       "<caption>A data.frame: 6 × 4</caption>\n",
       "<thead>\n",
       "\t<tr><th></th><th scope=col>age</th><th scope=col>gender</th><th scope=col>bmi</th><th scope=col>stroke</th></tr>\n",
       "\t<tr><th></th><th scope=col>&lt;dbl&gt;</th><th scope=col>&lt;chr&gt;</th><th scope=col>&lt;dbl&gt;</th><th scope=col>&lt;int&gt;</th></tr>\n",
       "</thead>\n",
       "<tbody>\n",
       "\t<tr><th scope=row>1</th><td>67</td><td>Male  </td><td>36.6</td><td>1</td></tr>\n",
       "\t<tr><th scope=row>2</th><td>61</td><td>Female</td><td> 0.0</td><td>1</td></tr>\n",
       "\t<tr><th scope=row>3</th><td>80</td><td>Male  </td><td>32.5</td><td>1</td></tr>\n",
       "\t<tr><th scope=row>4</th><td>49</td><td>Female</td><td>34.4</td><td>1</td></tr>\n",
       "\t<tr><th scope=row>5</th><td>79</td><td>Female</td><td>24.0</td><td>1</td></tr>\n",
       "\t<tr><th scope=row>6</th><td>81</td><td>Male  </td><td>29.0</td><td>1</td></tr>\n",
       "</tbody>\n",
       "</table>\n"
      ],
      "text/latex": [
       "A data.frame: 6 × 4\n",
       "\\begin{tabular}{r|llll}\n",
       "  & age & gender & bmi & stroke\\\\\n",
       "  & <dbl> & <chr> & <dbl> & <int>\\\\\n",
       "\\hline\n",
       "\t1 & 67 & Male   & 36.6 & 1\\\\\n",
       "\t2 & 61 & Female &  0.0 & 1\\\\\n",
       "\t3 & 80 & Male   & 32.5 & 1\\\\\n",
       "\t4 & 49 & Female & 34.4 & 1\\\\\n",
       "\t5 & 79 & Female & 24.0 & 1\\\\\n",
       "\t6 & 81 & Male   & 29.0 & 1\\\\\n",
       "\\end{tabular}\n"
      ],
      "text/markdown": [
       "\n",
       "A data.frame: 6 × 4\n",
       "\n",
       "| <!--/--> | age &lt;dbl&gt; | gender &lt;chr&gt; | bmi &lt;dbl&gt; | stroke &lt;int&gt; |\n",
       "|---|---|---|---|---|\n",
       "| 1 | 67 | Male   | 36.6 | 1 |\n",
       "| 2 | 61 | Female |  0.0 | 1 |\n",
       "| 3 | 80 | Male   | 32.5 | 1 |\n",
       "| 4 | 49 | Female | 34.4 | 1 |\n",
       "| 5 | 79 | Female | 24.0 | 1 |\n",
       "| 6 | 81 | Male   | 29.0 | 1 |\n",
       "\n"
      ],
      "text/plain": [
       "  age gender bmi  stroke\n",
       "1 67  Male   36.6 1     \n",
       "2 61  Female  0.0 1     \n",
       "3 80  Male   32.5 1     \n",
       "4 49  Female 34.4 1     \n",
       "5 79  Female 24.0 1     \n",
       "6 81  Male   29.0 1     "
      ]
     },
     "metadata": {},
     "output_type": "display_data"
    }
   ],
   "source": [
    "BMI = dbGetQuery(db,\"SELECT \n",
    "                            p.age,\n",
    "                            p.gender,\n",
    "                            m.bmi,\n",
    "                            CASE \n",
    "                                WHEN m.stroke = 1 THEN 1 \n",
    "                                ELSE 0 \n",
    "                                END as stroke\n",
    "                        FROM \n",
    "                            person p \n",
    "                        LEFT JOIN \n",
    "                            medical_history m on p.person_id = m.person_id\n",
    "\")\n",
    "head(BMI)\n",
    "write.csv(BMI,'bmi.csv')"
   ]
  },
  {
   "cell_type": "code",
   "execution_count": 20,
   "metadata": {
    "vscode": {
     "languageId": "r"
    }
   },
   "outputs": [
    {
     "data": {
      "text/html": [
       "<table class=\"dataframe\">\n",
       "<caption>A data.frame: 6 × 4</caption>\n",
       "<thead>\n",
       "\t<tr><th></th><th scope=col>age</th><th scope=col>gender</th><th scope=col>residence_type</th><th scope=col>stroke</th></tr>\n",
       "\t<tr><th></th><th scope=col>&lt;dbl&gt;</th><th scope=col>&lt;chr&gt;</th><th scope=col>&lt;chr&gt;</th><th scope=col>&lt;int&gt;</th></tr>\n",
       "</thead>\n",
       "<tbody>\n",
       "\t<tr><th scope=row>1</th><td>67</td><td>Male  </td><td>Urban</td><td>1</td></tr>\n",
       "\t<tr><th scope=row>2</th><td>61</td><td>Female</td><td>Rural</td><td>1</td></tr>\n",
       "\t<tr><th scope=row>3</th><td>80</td><td>Male  </td><td>Rural</td><td>1</td></tr>\n",
       "\t<tr><th scope=row>4</th><td>49</td><td>Female</td><td>Urban</td><td>1</td></tr>\n",
       "\t<tr><th scope=row>5</th><td>79</td><td>Female</td><td>Rural</td><td>1</td></tr>\n",
       "\t<tr><th scope=row>6</th><td>81</td><td>Male  </td><td>Urban</td><td>1</td></tr>\n",
       "</tbody>\n",
       "</table>\n"
      ],
      "text/latex": [
       "A data.frame: 6 × 4\n",
       "\\begin{tabular}{r|llll}\n",
       "  & age & gender & residence\\_type & stroke\\\\\n",
       "  & <dbl> & <chr> & <chr> & <int>\\\\\n",
       "\\hline\n",
       "\t1 & 67 & Male   & Urban & 1\\\\\n",
       "\t2 & 61 & Female & Rural & 1\\\\\n",
       "\t3 & 80 & Male   & Rural & 1\\\\\n",
       "\t4 & 49 & Female & Urban & 1\\\\\n",
       "\t5 & 79 & Female & Rural & 1\\\\\n",
       "\t6 & 81 & Male   & Urban & 1\\\\\n",
       "\\end{tabular}\n"
      ],
      "text/markdown": [
       "\n",
       "A data.frame: 6 × 4\n",
       "\n",
       "| <!--/--> | age &lt;dbl&gt; | gender &lt;chr&gt; | residence_type &lt;chr&gt; | stroke &lt;int&gt; |\n",
       "|---|---|---|---|---|\n",
       "| 1 | 67 | Male   | Urban | 1 |\n",
       "| 2 | 61 | Female | Rural | 1 |\n",
       "| 3 | 80 | Male   | Rural | 1 |\n",
       "| 4 | 49 | Female | Urban | 1 |\n",
       "| 5 | 79 | Female | Rural | 1 |\n",
       "| 6 | 81 | Male   | Urban | 1 |\n",
       "\n"
      ],
      "text/plain": [
       "  age gender residence_type stroke\n",
       "1 67  Male   Urban          1     \n",
       "2 61  Female Rural          1     \n",
       "3 80  Male   Rural          1     \n",
       "4 49  Female Urban          1     \n",
       "5 79  Female Rural          1     \n",
       "6 81  Male   Urban          1     "
      ]
     },
     "metadata": {},
     "output_type": "display_data"
    }
   ],
   "source": [
    "Residence = dbGetQuery(db,\"SELECT \n",
    "                                p.age,\n",
    "                                p.gender,\n",
    "                                p.residence_type,\n",
    "                                CASE \n",
    "                                    WHEN m.stroke = 1 THEN 1 \n",
    "                                    ELSE 0 \n",
    "                                    END as stroke\n",
    "                            FROM \n",
    "                                person p\n",
    "                            LEFT JOIN \n",
    "                                medical_history m on p.person_id = m.person_id\n",
    "\")\n",
    "head(Residence)\n",
    "write.csv(Residence,\"residence.csv\")"
   ]
  },
  {
   "cell_type": "code",
   "execution_count": 21,
   "metadata": {
    "vscode": {
     "languageId": "r"
    }
   },
   "outputs": [
    {
     "data": {
      "text/html": [
       "<table class=\"dataframe\">\n",
       "<caption>A data.frame: 6 × 4</caption>\n",
       "<thead>\n",
       "\t<tr><th></th><th scope=col>gender</th><th scope=col>age</th><th scope=col>avg_glucose_level</th><th scope=col>stroke</th></tr>\n",
       "\t<tr><th></th><th scope=col>&lt;chr&gt;</th><th scope=col>&lt;dbl&gt;</th><th scope=col>&lt;dbl&gt;</th><th scope=col>&lt;int&gt;</th></tr>\n",
       "</thead>\n",
       "<tbody>\n",
       "\t<tr><th scope=row>1</th><td>Male  </td><td>67</td><td>228.69</td><td>1</td></tr>\n",
       "\t<tr><th scope=row>2</th><td>Female</td><td>61</td><td>202.21</td><td>1</td></tr>\n",
       "\t<tr><th scope=row>3</th><td>Male  </td><td>80</td><td>105.92</td><td>1</td></tr>\n",
       "\t<tr><th scope=row>4</th><td>Female</td><td>49</td><td>171.23</td><td>1</td></tr>\n",
       "\t<tr><th scope=row>5</th><td>Female</td><td>79</td><td>174.12</td><td>1</td></tr>\n",
       "\t<tr><th scope=row>6</th><td>Male  </td><td>81</td><td>186.21</td><td>1</td></tr>\n",
       "</tbody>\n",
       "</table>\n"
      ],
      "text/latex": [
       "A data.frame: 6 × 4\n",
       "\\begin{tabular}{r|llll}\n",
       "  & gender & age & avg\\_glucose\\_level & stroke\\\\\n",
       "  & <chr> & <dbl> & <dbl> & <int>\\\\\n",
       "\\hline\n",
       "\t1 & Male   & 67 & 228.69 & 1\\\\\n",
       "\t2 & Female & 61 & 202.21 & 1\\\\\n",
       "\t3 & Male   & 80 & 105.92 & 1\\\\\n",
       "\t4 & Female & 49 & 171.23 & 1\\\\\n",
       "\t5 & Female & 79 & 174.12 & 1\\\\\n",
       "\t6 & Male   & 81 & 186.21 & 1\\\\\n",
       "\\end{tabular}\n"
      ],
      "text/markdown": [
       "\n",
       "A data.frame: 6 × 4\n",
       "\n",
       "| <!--/--> | gender &lt;chr&gt; | age &lt;dbl&gt; | avg_glucose_level &lt;dbl&gt; | stroke &lt;int&gt; |\n",
       "|---|---|---|---|---|\n",
       "| 1 | Male   | 67 | 228.69 | 1 |\n",
       "| 2 | Female | 61 | 202.21 | 1 |\n",
       "| 3 | Male   | 80 | 105.92 | 1 |\n",
       "| 4 | Female | 49 | 171.23 | 1 |\n",
       "| 5 | Female | 79 | 174.12 | 1 |\n",
       "| 6 | Male   | 81 | 186.21 | 1 |\n",
       "\n"
      ],
      "text/plain": [
       "  gender age avg_glucose_level stroke\n",
       "1 Male   67  228.69            1     \n",
       "2 Female 61  202.21            1     \n",
       "3 Male   80  105.92            1     \n",
       "4 Female 49  171.23            1     \n",
       "5 Female 79  174.12            1     \n",
       "6 Male   81  186.21            1     "
      ]
     },
     "metadata": {},
     "output_type": "display_data"
    }
   ],
   "source": [
    "Glucose = dbGetQuery(db,\"SELECT\n",
    "                                    p.gender,\n",
    "                                    p.age,\n",
    "                                    m.avg_glucose_level,\n",
    "                                    CASE \n",
    "                                        WHEN m.stroke = 1 THEN 1 \n",
    "                                        ELSE 0 \n",
    "                                        END as stroke\n",
    "                                FROM \n",
    "                                    person p\n",
    "                                LEFT JOIN\n",
    "                                    medical_history m on p.person_id = m.person_id\n",
    "\")\n",
    "\n",
    "head(Glucose)\n",
    "write.csv(Glucose,\"glucose.csv\")"
   ]
  }
 ],
 "metadata": {
  "kernelspec": {
   "display_name": "R",
   "language": "R",
   "name": "ir"
  },
  "language_info": {
   "codemirror_mode": "r",
   "file_extension": ".r",
   "mimetype": "text/x-r-source",
   "name": "R",
   "pygments_lexer": "r",
   "version": "4.3.2"
  }
 },
 "nbformat": 4,
 "nbformat_minor": 2
}
